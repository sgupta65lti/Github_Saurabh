{
 "cells": [
  {
   "cell_type": "markdown",
   "metadata": {},
   "source": [
    "## Squared Error Cost function\n",
    "### Very simple and basic demonstration about how cost function is used and computed for minimum cost"
   ]
  },
  {
   "cell_type": "markdown",
   "metadata": {},
   "source": [
    "## What is a cost function?\n",
    "### In very simple words a function that penalizes the algorithm (model) for predicting inaccurate outputs"
   ]
  },
  {
   "cell_type": "markdown",
   "metadata": {},
   "source": [
    "### Lets learn a very simple version of cost function formula of which many of us would have faced as a method of validation or accuracy check\n",
    "### Squared Error Cost function, i.e. (predicted-actual)^2.\n",
    "#### for the below example, lets assume there is some single value for actual data = 4."
   ]
  },
  {
   "cell_type": "code",
   "execution_count": 26,
   "metadata": {},
   "outputs": [],
   "source": [
    "import pandas as pd\n",
    "# lets define a function here as cost, which takes the input and return squared difference of input and our actual value 4\n",
    "# argument to this cost function is the predicted value\n",
    "def cost(x):\n",
    "    return (x - 4) **2"
   ]
  },
  {
   "cell_type": "code",
   "execution_count": 27,
   "metadata": {},
   "outputs": [
    {
     "data": {
      "text/plain": [
       "0"
      ]
     },
     "execution_count": 27,
     "metadata": {},
     "output_type": "execute_result"
    }
   ],
   "source": [
    "# lets just check what output is generated from above cost function when predicted value is exactly 4\n",
    "cost(4)"
   ]
  },
  {
   "cell_type": "markdown",
   "metadata": {},
   "source": [
    "### So, we just saw that when the model predicts the value same as actual value, we get 0 cost"
   ]
  },
  {
   "cell_type": "code",
   "execution_count": 5,
   "metadata": {},
   "outputs": [
    {
     "data": {
      "text/plain": [
       "9216"
      ]
     },
     "execution_count": 5,
     "metadata": {},
     "output_type": "execute_result"
    }
   ],
   "source": [
    "# lets again check what output is generated from above cost function when predicted value is 100\n",
    "cost(100)"
   ]
  },
  {
   "cell_type": "markdown",
   "metadata": {},
   "source": [
    "### with 100 as predicted value, cost came to be 9216, thats pretty huge!"
   ]
  },
  {
   "cell_type": "markdown",
   "metadata": {},
   "source": [
    "### Now, when the model doesnt know how to predict accurately, so that cost will be closer to 0, we need to find some way to help our model.\n",
    "### Finding slope of the cost function is a very popular way to do that. \n",
    "### Mathematically, we know that, slope at any single point (peak or depth) is 0 (zero)\n",
    "### Lets see the below graph and judge at which point, the slope will be 0"
   ]
  },
  {
   "cell_type": "markdown",
   "metadata": {},
   "source": [
    "#### This below graph is a parabolic curve based on the nature of square error function and has its focus on value 4 (actual value of model)"
   ]
  },
  {
   "cell_type": "code",
   "execution_count": 11,
   "metadata": {},
   "outputs": [
    {
     "data": {
      "text/plain": [
       "Text(0.5, 0, 'Predicted values')"
      ]
     },
     "execution_count": 11,
     "metadata": {},
     "output_type": "execute_result"
    },
    {
     "data": {
      "image/png": "[encoded data removed]",
      "text/plain": [
       "<Figure size 432x288 with 1 Axes>"
      ]
     },
     "metadata": {
      "needs_background": "light"
     },
     "output_type": "display_data"
    }
   ],
   "source": [
    "import matplotlib.pyplot as plt\n",
    "import numpy as np\n",
    "\n",
    "# for better representation, created 1000 equally spaced points between -2 and 10\n",
    "x = np.linspace(-2, 10, 1000)\n",
    "\n",
    "# calculate the y value for each element of the x vector\n",
    "y = (x-4)**2\n",
    "\n",
    "fig, ax = plt.subplots()\n",
    "ax.plot(x, y)\n",
    "plt.axhline(y=0, color='r', linestyle='--')\n",
    "plt.ylabel (\"Cost function\")\n",
    "plt.xlabel(\"Predicted values\")"
   ]
  },
  {
   "cell_type": "markdown",
   "metadata": {},
   "source": [
    "### After visualising the nature of our cost function above, looks like the slope of the graph will be 0 at the value 4 which in fact represent the overall minimum (zero) cost of model"
   ]
  },
  {
   "cell_type": "markdown",
   "metadata": {},
   "source": [
    "### Hill/Gradient Descent are methods that helps model to achieve the minimum cost based on above idea to find slope closer to 0"
   ]
  },
  {
   "cell_type": "markdown",
   "metadata": {},
   "source": [
    "### Well, our model/algorithm doesn't know, from where to start! It may start at any random value it predicts."
   ]
  },
  {
   "cell_type": "markdown",
   "metadata": {},
   "source": [
    "### Allow me to demostrate Hill descent mathematically"
   ]
  },
  {
   "cell_type": "code",
   "execution_count": 20,
   "metadata": {},
   "outputs": [],
   "source": [
    "# with the differential calculus formula, derivative of above equation will give slope = 2 * (x-4)\n",
    "def slope(x):\n",
    "    return 2 * (x-4)"
   ]
  },
  {
   "cell_type": "markdown",
   "metadata": {},
   "source": [
    "### initialising x with 20 ; 4 is our minima point; 0.1 is  the learning rate"
   ]
  },
  {
   "cell_type": "code",
   "execution_count": 23,
   "metadata": {},
   "outputs": [],
   "source": [
    "x=20"
   ]
  },
  {
   "cell_type": "code",
   "execution_count": 24,
   "metadata": {
    "scrolled": true
   },
   "outputs": [
    {
     "name": "stdout",
     "output_type": "stream",
     "text": [
      "Iterations to reach the minima:  54\n"
     ]
    }
   ],
   "source": [
    "s=[]\n",
    "while True:\n",
    "    x=x-0.1*slope(x)\n",
    "    s.append(x)\n",
    "    if (abs(x)-4)>0.0001:\n",
    "        continue\n",
    "    else:\n",
    "        break\n",
    "print(\"Iterations to reach the minima: \",len(s))"
   ]
  },
  {
   "cell_type": "markdown",
   "metadata": {},
   "source": [
    "### with above values, Hill descent took 54 iterations to arrive the minima point"
   ]
  },
  {
   "cell_type": "markdown",
   "metadata": {},
   "source": [
    "## Now, lets see the big brother of Hill Descent!"
   ]
  },
  {
   "cell_type": "markdown",
   "metadata": {},
   "source": [
    "## Gradient Descent >>"
   ]
  },
  {
   "cell_type": "markdown",
   "metadata": {},
   "source": [
    "### For this demontration, I will use a very popular advertisement dataset..(same one in ISLR )\n"
   ]
  },
  {
   "cell_type": "code",
   "execution_count": 32,
   "metadata": {},
   "outputs": [],
   "source": [
    "data = pd.read_csv('Advertising.csv')[['TV','Radio','Sales']]\n",
    "y = data['Sales']\n",
    "X = np.column_stack((data['TV'], data['Radio']))"
   ]
  },
  {
   "cell_type": "markdown",
   "metadata": {},
   "source": [
    "### standarising helps in Linear Regression problems...almost everytime!"
   ]
  },
  {
   "cell_type": "code",
   "execution_count": 34,
   "metadata": {},
   "outputs": [],
   "source": [
    "from sklearn.preprocessing import StandardScaler\n",
    " \n",
    "scaler = StandardScaler()\n",
    "X_scaled = scaler.fit_transform(X)"
   ]
  },
  {
   "cell_type": "markdown",
   "metadata": {},
   "source": [
    "### Now, lets define a function , which will : \n",
    "### creates mse - which will be our objective to minimize\n",
    "### and vectorised form of Gradient equation (projecting of a vector onto another)"
   ]
  },
  {
   "cell_type": "code",
   "execution_count": 35,
   "metadata": {},
   "outputs": [],
   "source": [
    "def gradient_descent(W, x, y):\n",
    "    y_hat = x.dot(W).flatten()\n",
    "    error = (y - y_hat)\n",
    "    mse = (1.0 / len(x)) * np.sum(np.square(error))\n",
    "    gradient = -(1.0 / len(x)) * error.dot(x)\n",
    "    return gradient, mse"
   ]
  },
  {
   "cell_type": "markdown",
   "metadata": {},
   "source": [
    "### Now, lets define some parameters to function"
   ]
  },
  {
   "cell_type": "code",
   "execution_count": 36,
   "metadata": {},
   "outputs": [],
   "source": [
    "w = np.array((-40, -40)) # initialized value for both of our variables\n",
    "alpha = .1 # learning rate\n",
    "tolerance = 0.001 # lowest value for convergence\n",
    " \n",
    "old_w = []\n",
    "errors = []"
   ]
  },
  {
   "cell_type": "markdown",
   "metadata": {},
   "source": [
    "### Now lets run the gradient descent"
   ]
  },
  {
   "cell_type": "code",
   "execution_count": 37,
   "metadata": {},
   "outputs": [
    {
     "name": "stdout",
     "output_type": "stream",
     "text": [
      "Iteration: 10 - Error: 732.6317\n",
      "Iteration: 20 - Error: 256.7896\n",
      "Iteration: 30 - Error: 205.5887\n",
      "Iteration: 40 - Error: 200.0794\n",
      "Iteration: 50 - Error: 199.4866\n",
      "Iteration: 60 - Error: 199.4228\n",
      "Iteration: 70 - Error: 199.4159\n",
      "Iteration: 80 - Error: 199.4152\n",
      "Gradient Descent has converged\n"
     ]
    }
   ],
   "source": [
    "# Perform Gradient Descent\n",
    "iterations = 1\n",
    "for i in range(200):\n",
    "    gradient, error = gradient_descent(w, X_scaled, y)\n",
    "    new_w = w - alpha * gradient\n",
    " \n",
    "    # Print error every 10 iterations\n",
    "    if iterations % 10 == 0:\n",
    "        print(\"Iteration: %d - Error: %.4f\" % (iterations, error))\n",
    "        old_w.append(new_w)\n",
    "        errors.append(error)\n",
    " \n",
    "    # Stopping Condition\n",
    "    if np.sum(abs(new_w - w)) < tolerance:\n",
    "        print('Gradient Descent has converged')\n",
    "        break\n",
    " \n",
    "    iterations += 1\n",
    "    w = new_w\n",
    " \n"
   ]
  },
  {
   "cell_type": "code",
   "execution_count": 38,
   "metadata": {
    "scrolled": true
   },
   "outputs": [
    {
     "name": "stdout",
     "output_type": "stream",
     "text": [
      "w = [3.91359776 2.77964408]\n"
     ]
    }
   ],
   "source": [
    "print('w =', w)"
   ]
  },
  {
   "cell_type": "code",
   "execution_count": 47,
   "metadata": {},
   "outputs": [],
   "source": [
    "import warnings\n",
    "warnings.filterwarnings(\"ignore\")"
   ]
  },
  {
   "cell_type": "markdown",
   "metadata": {},
   "source": [
    "### Lets validate our weights with a linear regression model in python"
   ]
  },
  {
   "cell_type": "code",
   "execution_count": 48,
   "metadata": {},
   "outputs": [],
   "source": [
    "import statsmodels.api as sm\n",
    "X_1=data[['TV','Radio']].copy()\n",
    "X_1 = sm.add_constant(X_1)\n",
    "y_1=data.Sales\n",
    "X1_scaled = scaler.fit_transform(X_1)"
   ]
  },
  {
   "cell_type": "code",
   "execution_count": 49,
   "metadata": {},
   "outputs": [],
   "source": [
    "model = sm.OLS(y_1, X1_scaled).fit()"
   ]
  },
  {
   "cell_type": "code",
   "execution_count": 50,
   "metadata": {},
   "outputs": [
    {
     "data": {
      "text/html": [
       "<table class=\"simpletable\">\n",
       "<caption>OLS Regression Results</caption>\n",
       "<tr>\n",
       "  <th>Dep. Variable:</th>          <td>Sales</td>      <th>  R-squared (uncentered):</th>      <td>   0.109</td>\n",
       "</tr>\n",
       "<tr>\n",
       "  <th>Model:</th>                   <td>OLS</td>       <th>  Adj. R-squared (uncentered):</th> <td>   0.100</td>\n",
       "</tr>\n",
       "<tr>\n",
       "  <th>Method:</th>             <td>Least Squares</td>  <th>  F-statistic:       </th>          <td>   12.06</td>\n",
       "</tr>\n",
       "<tr>\n",
       "  <th>Date:</th>             <td>Mon, 01 Mar 2021</td> <th>  Prob (F-statistic):</th>          <td>1.14e-05</td>\n",
       "</tr>\n",
       "<tr>\n",
       "  <th>Time:</th>                 <td>05:29:50</td>     <th>  Log-Likelihood:    </th>          <td> -813.33</td>\n",
       "</tr>\n",
       "<tr>\n",
       "  <th>No. Observations:</th>      <td>   200</td>      <th>  AIC:               </th>          <td>   1631.</td>\n",
       "</tr>\n",
       "<tr>\n",
       "  <th>Df Residuals:</th>          <td>   198</td>      <th>  BIC:               </th>          <td>   1637.</td>\n",
       "</tr>\n",
       "<tr>\n",
       "  <th>Df Model:</th>              <td>     2</td>      <th>                     </th>              <td> </td>   \n",
       "</tr>\n",
       "<tr>\n",
       "  <th>Covariance Type:</th>      <td>nonrobust</td>    <th>                     </th>              <td> </td>   \n",
       "</tr>\n",
       "</table>\n",
       "<table class=\"simpletable\">\n",
       "<tr>\n",
       "    <td></td>       <th>coef</th>     <th>std err</th>      <th>t</th>      <th>P>|t|</th>  <th>[0.025</th>    <th>0.975]</th>  \n",
       "</tr>\n",
       "<tr>\n",
       "  <th>const</th> <td>         0</td> <td>        0</td> <td>      nan</td> <td>   nan</td> <td>        0</td> <td>        0</td>\n",
       "</tr>\n",
       "<tr>\n",
       "  <th>x1</th>    <td>    3.9184</td> <td>    1.005</td> <td>    3.899</td> <td> 0.000</td> <td>    1.936</td> <td>    5.900</td>\n",
       "</tr>\n",
       "<tr>\n",
       "  <th>x2</th>    <td>    2.7841</td> <td>    1.005</td> <td>    2.770</td> <td> 0.006</td> <td>    0.802</td> <td>    4.766</td>\n",
       "</tr>\n",
       "</table>\n",
       "<table class=\"simpletable\">\n",
       "<tr>\n",
       "  <th>Omnibus:</th>       <td>60.022</td> <th>  Durbin-Watson:     </th> <td>   0.029</td>\n",
       "</tr>\n",
       "<tr>\n",
       "  <th>Prob(Omnibus):</th> <td> 0.000</td> <th>  Jarque-Bera (JB):  </th> <td> 148.679</td>\n",
       "</tr>\n",
       "<tr>\n",
       "  <th>Skew:</th>          <td>-1.323</td> <th>  Prob(JB):          </th> <td>5.19e-33</td>\n",
       "</tr>\n",
       "<tr>\n",
       "  <th>Kurtosis:</th>      <td> 6.292</td> <th>  Cond. No.          </th> <td>     inf</td>\n",
       "</tr>\n",
       "</table><br/><br/>Warnings:<br/>[1] Standard Errors assume that the covariance matrix of the errors is correctly specified.<br/>[2] The smallest eigenvalue is      0. This might indicate that there are<br/>strong multicollinearity problems or that the design matrix is singular."
      ],
      "text/plain": [
       "<class 'statsmodels.iolib.summary.Summary'>\n",
       "\"\"\"\n",
       "                                 OLS Regression Results                                \n",
       "=======================================================================================\n",
       "Dep. Variable:                  Sales   R-squared (uncentered):                   0.109\n",
       "Model:                            OLS   Adj. R-squared (uncentered):              0.100\n",
       "Method:                 Least Squares   F-statistic:                              12.06\n",
       "Date:                Mon, 01 Mar 2021   Prob (F-statistic):                    1.14e-05\n",
       "Time:                        05:29:50   Log-Likelihood:                         -813.33\n",
       "No. Observations:                 200   AIC:                                      1631.\n",
       "Df Residuals:                     198   BIC:                                      1637.\n",
       "Df Model:                           2                                                  \n",
       "Covariance Type:            nonrobust                                                  \n",
       "==============================================================================\n",
       "                 coef    std err          t      P>|t|      [0.025      0.975]\n",
       "------------------------------------------------------------------------------\n",
       "const               0          0        nan        nan           0           0\n",
       "x1             3.9184      1.005      3.899      0.000       1.936       5.900\n",
       "x2             2.7841      1.005      2.770      0.006       0.802       4.766\n",
       "==============================================================================\n",
       "Omnibus:                       60.022   Durbin-Watson:                   0.029\n",
       "Prob(Omnibus):                  0.000   Jarque-Bera (JB):              148.679\n",
       "Skew:                          -1.323   Prob(JB):                     5.19e-33\n",
       "Kurtosis:                       6.292   Cond. No.                          inf\n",
       "==============================================================================\n",
       "\n",
       "Warnings:\n",
       "[1] Standard Errors assume that the covariance matrix of the errors is correctly specified.\n",
       "[2] The smallest eigenvalue is      0. This might indicate that there are\n",
       "strong multicollinearity problems or that the design matrix is singular.\n",
       "\"\"\""
      ]
     },
     "execution_count": 50,
     "metadata": {},
     "output_type": "execute_result"
    }
   ],
   "source": [
    "model.summary()"
   ]
  },
  {
   "cell_type": "markdown",
   "metadata": {},
   "source": [
    "## Voila! self coded gradient descent algorithm performed almost very close to the one in statsmodel..."
   ]
  },
  {
   "cell_type": "markdown",
   "metadata": {},
   "source": [
    "                            -------------- Thank You ------------------"
   ]
  }
 ],
 "metadata": {
  "kernelspec": {
   "display_name": "Python 3",
   "language": "python",
   "name": "python3"
  },
  "language_info": {
   "codemirror_mode": {
    "name": "ipython",
    "version": 3
   },
   "file_extension": ".py",
   "mimetype": "text/x-python",
   "name": "python",
   "nbconvert_exporter": "python",
   "pygments_lexer": "ipython3",
   "version": "3.7.6"
  }
 },
 "nbformat": 4,
 "nbformat_minor": 4
}
