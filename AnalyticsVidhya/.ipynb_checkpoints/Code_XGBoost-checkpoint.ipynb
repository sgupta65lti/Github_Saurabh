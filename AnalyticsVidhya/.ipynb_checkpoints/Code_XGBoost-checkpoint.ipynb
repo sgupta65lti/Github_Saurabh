{
 "cells": [
  {
   "cell_type": "markdown",
   "metadata": {},
   "source": [
    "### Lets start with importing packages"
   ]
  },
  {
   "cell_type": "code",
   "execution_count": 79,
   "metadata": {
    "scrolled": true
   },
   "outputs": [],
   "source": [
    "import pandas as pd\n",
    "import numpy as np\n",
    "import xgboost as xgb\n",
    "import matplotlib.pyplot as plt\n",
    "import seaborn as sns\n",
    "from sklearn import preprocessing\n",
    "from sklearn.model_selection import train_test_split\n",
    "from sklearn.metrics import roc_auc_score\n",
    "from sklearn.model_selection import GridSearchCV\n",
    "import warnings\n",
    "warnings.filterwarnings(\"ignore\")\n",
    "from sklearn.feature_selection import SelectKBest \n",
    "from sklearn.feature_selection import chi2 \n",
    "from sklearn.utils import resample\n",
    "from sklearn.model_selection import KFold\n",
    "from sklearn.model_selection import cross_val_score"
   ]
  },
  {
   "cell_type": "code",
   "execution_count": 2,
   "metadata": {},
   "outputs": [],
   "source": [
    "from pandasql import sqldf\n",
    "pysqldf = lambda q: sqldf(q, globals())"
   ]
  },
  {
   "cell_type": "code",
   "execution_count": 3,
   "metadata": {
    "scrolled": true
   },
   "outputs": [
    {
     "data": {
      "text/plain": [
       "Index(['ID', 'City_Code', 'Region_Code', 'Accomodation_Type',\n",
       "       'Reco_Insurance_Type', 'Upper_Age', 'Lower_Age', 'Is_Spouse',\n",
       "       'Health Indicator', 'Holding_Policy_Duration', 'Holding_Policy_Type',\n",
       "       'Reco_Policy_Cat', 'Reco_Policy_Premium', 'Response'],\n",
       "      dtype='object')"
      ]
     },
     "execution_count": 3,
     "metadata": {},
     "output_type": "execute_result"
    }
   ],
   "source": [
    "seed = 260681 ## setting some random seed value\n",
    "train = pd.read_csv('train_Df64byy.csv')\n",
    "y = train.Response.values\n",
    "train.columns"
   ]
  },
  {
   "cell_type": "markdown",
   "metadata": {},
   "source": [
    "### Lets see the distribution of Age variables across values of Response"
   ]
  },
  {
   "cell_type": "code",
   "execution_count": 4,
   "metadata": {},
   "outputs": [
    {
     "data": {
      "text/plain": [
       "<AxesSubplot:xlabel='Response', ylabel='Upper_Age'>"
      ]
     },
     "execution_count": 4,
     "metadata": {},
     "output_type": "execute_result"
    },
    {
     "data": {
      "image/png": "[encoded data removed]",
      "text/plain": [
       "<Figure size 432x288 with 1 Axes>"
      ]
     },
     "metadata": {
      "needs_background": "light"
     },
     "output_type": "display_data"
    }
   ],
   "source": [
    "sns.boxplot(data=train, x='Response', y='Upper_Age')"
   ]
  },
  {
   "cell_type": "code",
   "execution_count": 5,
   "metadata": {},
   "outputs": [
    {
     "data": {
      "text/plain": [
       "<AxesSubplot:xlabel='Response', ylabel='Lower_Age'>"
      ]
     },
     "execution_count": 5,
     "metadata": {},
     "output_type": "execute_result"
    },
    {
     "data": {
      "image/png": "[encoded data removed]",
      "text/plain": [
       "<Figure size 432x288 with 1 Axes>"
      ]
     },
     "metadata": {
      "needs_background": "light"
     },
     "output_type": "display_data"
    }
   ],
   "source": [
    "sns.boxplot(data=train, x='Response', y='Lower_Age')"
   ]
  },
  {
   "cell_type": "markdown",
   "metadata": {},
   "source": [
    "### Checking out another time dependent variable Holding_Policy_Duration"
   ]
  },
  {
   "cell_type": "code",
   "execution_count": 6,
   "metadata": {},
   "outputs": [
    {
     "data": {
      "image/png": "[encoded data removed]",
      "text/plain": [
       "<Figure size 432x288 with 1 Axes>"
      ]
     },
     "metadata": {
      "needs_background": "light"
     },
     "output_type": "display_data"
    }
   ],
   "source": [
    "(pd.crosstab(index=train['Holding_Policy_Duration'], columns=train['Response'],normalize='columns')*100).round(2).plot(kind='bar',stacked=True)\n",
    "plt.xticks(rotation=360)\n",
    "plt.show()"
   ]
  },
  {
   "cell_type": "markdown",
   "metadata": {},
   "source": [
    "#### Now lets bin the variable Holding_Policy_Duration because of its unusual variation across different values"
   ]
  },
  {
   "cell_type": "code",
   "execution_count": 7,
   "metadata": {},
   "outputs": [],
   "source": [
    "train1=pysqldf('''select ID,Holding_Policy_Duration, case when Holding_Policy_Duration in ('1.0','2.0') then '1-2' when Holding_Policy_Duration in ('3.0','4.0') then '3-4' \n",
    "when Holding_Policy_Duration in ('5.0','6.0','7.0') then '5-7' \n",
    "when Holding_Policy_Duration in ('8.0','9.0','10.0','11.0','12.0','13.0','14.0') then '8-14'\n",
    "else Holding_Policy_Duration end as new  from train''')\n",
    "train=train.merge(train1, on = 'ID') # merging the modified field of duration back to original data\n",
    "train.rename(columns={'new':'Holding_Policy_Duration'},inplace=True)\n",
    "train.drop(['Holding_Policy_Duration_x','Holding_Policy_Duration_y'],axis=1,inplace=True)"
   ]
  },
  {
   "cell_type": "markdown",
   "metadata": {},
   "source": [
    "### Next, lets see for Accomodation type relationship with our Response variable"
   ]
  },
  {
   "cell_type": "code",
   "execution_count": 8,
   "metadata": {},
   "outputs": [
    {
     "data": {
      "text/plain": [
       "(array([0, 1]), [Text(0, 0, 'Owned'), Text(1, 0, 'Rented')])"
      ]
     },
     "execution_count": 8,
     "metadata": {},
     "output_type": "execute_result"
    },
    {
     "data": {
      "image/png": "[encoded data removed]",
      "text/plain": [
       "<Figure size 432x288 with 1 Axes>"
      ]
     },
     "metadata": {
      "needs_background": "light"
     },
     "output_type": "display_data"
    }
   ],
   "source": [
    "(pd.crosstab(index=train['Accomodation_Type'], columns=train['Response'],normalize='columns')*100).round(2).plot(kind='bar',stacked=True)\n",
    "plt.xticks(rotation=360)"
   ]
  },
  {
   "cell_type": "markdown",
   "metadata": {},
   "source": [
    "### Lets check now for Reco_Insurance_Type"
   ]
  },
  {
   "cell_type": "code",
   "execution_count": 10,
   "metadata": {},
   "outputs": [
    {
     "data": {
      "text/plain": [
       "(array([0, 1]), [Text(0, 0, 'Individual'), Text(1, 0, 'Joint')])"
      ]
     },
     "execution_count": 10,
     "metadata": {},
     "output_type": "execute_result"
    },
    {
     "data": {
      "image/png": "[encoded data removed]",
      "text/plain": [
       "<Figure size 432x288 with 1 Axes>"
      ]
     },
     "metadata": {
      "needs_background": "light"
     },
     "output_type": "display_data"
    }
   ],
   "source": [
    "(pd.crosstab(index=train['Reco_Insurance_Type'], columns=train['Response'],normalize='columns')*100).round(2).plot(kind='bar',stacked=True)\n",
    "plt.xticks(rotation=360)"
   ]
  },
  {
   "cell_type": "markdown",
   "metadata": {},
   "source": [
    "----------------------------------------------------\n",
    "### Lets check now for is_spouse"
   ]
  },
  {
   "cell_type": "code",
   "execution_count": 11,
   "metadata": {
    "scrolled": true
   },
   "outputs": [
    {
     "data": {
      "text/plain": [
       "(array([0, 1]), [Text(0, 0, 'No'), Text(1, 0, 'Yes')])"
      ]
     },
     "execution_count": 11,
     "metadata": {},
     "output_type": "execute_result"
    },
    {
     "data": {
      "image/png": "[encoded data removed]",
      "text/plain": [
       "<Figure size 432x288 with 1 Axes>"
      ]
     },
     "metadata": {
      "needs_background": "light"
     },
     "output_type": "display_data"
    }
   ],
   "source": [
    "(pd.crosstab(index=train['Is_Spouse'], columns=train['Response'],normalize='columns')*100).round(2).plot(kind='bar',stacked=True)\n",
    "plt.xticks(rotation=360)"
   ]
  },
  {
   "cell_type": "markdown",
   "metadata": {},
   "source": [
    "### Lets see our next variable, Health Indicator!"
   ]
  },
  {
   "cell_type": "code",
   "execution_count": 13,
   "metadata": {
    "scrolled": true
   },
   "outputs": [
    {
     "data": {
      "image/png": "[encoded data removed]",
      "text/plain": [
       "<Figure size 432x288 with 1 Axes>"
      ]
     },
     "metadata": {
      "needs_background": "light"
     },
     "output_type": "display_data"
    }
   ],
   "source": [
    "(pd.crosstab(index=train['Health Indicator'], columns=train['Response'],normalize='columns')*100).round(2).plot(kind='bar',stacked=True)\n",
    "plt.xticks(rotation=360)\n",
    "plt.show()"
   ]
  },
  {
   "cell_type": "markdown",
   "metadata": {},
   "source": [
    "### Next, we will check for Holding_Policy_Duration"
   ]
  },
  {
   "cell_type": "code",
   "execution_count": 14,
   "metadata": {
    "scrolled": true
   },
   "outputs": [
    {
     "data": {
      "image/png": "[encoded data removed]",
      "text/plain": [
       "<Figure size 432x288 with 1 Axes>"
      ]
     },
     "metadata": {
      "needs_background": "light"
     },
     "output_type": "display_data"
    }
   ],
   "source": [
    "(pd.crosstab(index=train['Holding_Policy_Duration'], columns=train['Response'],normalize='columns')*100).round(2).plot(kind='bar',stacked=True)\n",
    "plt.xticks(rotation=360)\n",
    "plt.show()"
   ]
  },
  {
   "cell_type": "markdown",
   "metadata": {},
   "source": [
    "----------------------------------------------\n",
    "### Now lets check for Holding_Policy_Type"
   ]
  },
  {
   "cell_type": "code",
   "execution_count": 16,
   "metadata": {},
   "outputs": [
    {
     "data": {
      "image/png": "[encoded data removed]",
      "text/plain": [
       "<Figure size 432x288 with 1 Axes>"
      ]
     },
     "metadata": {
      "needs_background": "light"
     },
     "output_type": "display_data"
    }
   ],
   "source": [
    "(pd.crosstab(index=train['Holding_Policy_Type'], columns=train['Response'],normalize='columns')*100).round(2).plot(kind='bar',stacked=True)\n",
    "plt.xticks(rotation=360)\n",
    "plt.show()"
   ]
  },
  {
   "cell_type": "markdown",
   "metadata": {},
   "source": [
    "-----------------------------------------------------\n",
    "### Its time for our next variable : Reco_Policy_Cat"
   ]
  },
  {
   "cell_type": "code",
   "execution_count": 17,
   "metadata": {
    "scrolled": true
   },
   "outputs": [
    {
     "data": {
      "image/png": "[encoded data removed]",
      "text/plain": [
       "<Figure size 432x288 with 1 Axes>"
      ]
     },
     "metadata": {
      "needs_background": "light"
     },
     "output_type": "display_data"
    }
   ],
   "source": [
    "(pd.crosstab(index=train['Reco_Policy_Cat'], columns=train['Response'],normalize='columns')*100).round(2).plot(kind='bar',stacked=True)\n",
    "plt.xticks(rotation=360)\n",
    "plt.show()"
   ]
  },
  {
   "cell_type": "markdown",
   "metadata": {},
   "source": [
    "### Now, our final variable to test, a continuous one, Reco_Policy_Premium"
   ]
  },
  {
   "cell_type": "code",
   "execution_count": 18,
   "metadata": {},
   "outputs": [
    {
     "data": {
      "text/plain": [
       "<AxesSubplot:xlabel='Reco_Policy_Premium', ylabel='Count'>"
      ]
     },
     "execution_count": 18,
     "metadata": {},
     "output_type": "execute_result"
    },
    {
     "data": {
      "image/png": "[encoded data removed]",
      "text/plain": [
       "<Figure size 432x288 with 1 Axes>"
      ]
     },
     "metadata": {
      "needs_background": "light"
     },
     "output_type": "display_data"
    }
   ],
   "source": [
    "sns.histplot(train.Reco_Policy_Premium)"
   ]
  },
  {
   "cell_type": "code",
   "execution_count": 19,
   "metadata": {},
   "outputs": [
    {
     "data": {
      "text/plain": [
       "<AxesSubplot:xlabel='Response', ylabel='Reco_Policy_Premium'>"
      ]
     },
     "execution_count": 19,
     "metadata": {},
     "output_type": "execute_result"
    },
    {
     "data": {
      "image/png": "[encoded data removed]",
      "text/plain": [
       "<Figure size 432x288 with 1 Axes>"
      ]
     },
     "metadata": {
      "needs_background": "light"
     },
     "output_type": "display_data"
    }
   ],
   "source": [
    "sns.boxplot(data=train,x='Response',y='Reco_Policy_Premium')"
   ]
  },
  {
   "cell_type": "markdown",
   "metadata": {},
   "source": [
    "### This Reco_Policy_Premium doesn't seem to significantly different across values of Response as their median are lying at same level ; Also its skewed enough towards positive side"
   ]
  },
  {
   "cell_type": "markdown",
   "metadata": {},
   "source": [
    "### So far, we have seen how variables interact with our response variables."
   ]
  },
  {
   "cell_type": "markdown",
   "metadata": {},
   "source": [
    "### Since we have all the variables except policy_premium as categorical, we will use chi-sq selection method to select our best features.\n",
    "Also, based on above visual interpretation of Reco_Policy_Premium, lets drop it for our model"
   ]
  },
  {
   "cell_type": "markdown",
   "metadata": {},
   "source": [
    "### Lets encode out object type variables"
   ]
  },
  {
   "cell_type": "code",
   "execution_count": 20,
   "metadata": {
    "scrolled": true
   },
   "outputs": [
    {
     "name": "stdout",
     "output_type": "stream",
     "text": [
      "City_Code\n",
      "Accomodation_Type\n",
      "Reco_Insurance_Type\n",
      "Is_Spouse\n",
      "Health Indicator\n",
      "Holding_Policy_Type\n",
      "Holding_Policy_Duration\n"
     ]
    }
   ],
   "source": [
    "train = train.fillna(\"Missing\")\n",
    "for f in train.columns:\n",
    "    if train[f].dtype=='object':\n",
    "        print(f)\n",
    "        lbl = preprocessing.LabelEncoder()\n",
    "        lbl.fit(list(train[f].values))\n",
    "        train[f] = lbl.transform(list(train[f].values))"
   ]
  },
  {
   "cell_type": "code",
   "execution_count": 21,
   "metadata": {},
   "outputs": [],
   "source": [
    "train.drop(['ID','Reco_Policy_Premium','Response'],axis=1,inplace=True)"
   ]
  },
  {
   "cell_type": "code",
   "execution_count": 96,
   "metadata": {},
   "outputs": [
    {
     "data": {
      "text/plain": [
       "11"
      ]
     },
     "execution_count": 96,
     "metadata": {},
     "output_type": "execute_result"
    }
   ],
   "source": [
    "len(train.columns)"
   ]
  },
  {
   "cell_type": "markdown",
   "metadata": {},
   "source": [
    "#### we have 11 features as of now, lets see what could be the best number of features useful"
   ]
  },
  {
   "cell_type": "code",
   "execution_count": 92,
   "metadata": {
    "scrolled": true
   },
   "outputs": [],
   "source": [
    "roc_training=[]\n",
    "roc_cv=[]\n",
    "for i in range(4,12):\n",
    "    chi2_features = SelectKBest(chi2, k = i) \n",
    "    X_kbest_features = chi2_features.fit(train, y)\n",
    "    X=train.loc[:][train.columns[X_kbest_features.get_support()]]\n",
    "#     xgb.set_config(verbosity=0)\n",
    "    clf = xgb.XGBClassifier(n_estimators=120,\n",
    "                        max_depth=13,\n",
    "                        learning_rate=0.09,\n",
    "                        subsample=0.8,\n",
    "                        verbosity=0\n",
    "                       )\n",
    "                        \n",
    "    xgb_model = clf.fit(X, y, eval_metric=\"auc\")\n",
    "    preds=clf.predict_proba(X)[:,1]\n",
    "    roc_training.append(roc_auc_score(y,preds))\n",
    "    kf = KFold(n_splits=5, random_state=4,shuffle=True)\n",
    "    roc_cv.append(np.mean(cross_val_score(clf , X, y,scoring=\"roc_auc\", cv = kf)))"
   ]
  },
  {
   "cell_type": "markdown",
   "metadata": {},
   "source": [
    "### Starting from the minimum 4 features, for given set of XGBoost parameters, we have following :"
   ]
  },
  {
   "cell_type": "markdown",
   "metadata": {},
   "source": [
    "### So, we are taking our train data as it is with 11 features"
   ]
  },
  {
   "cell_type": "code",
   "execution_count": 95,
   "metadata": {
    "scrolled": false
   },
   "outputs": [
    {
     "data": {
      "text/html": [
       "<div>\n",
       "<style scoped>\n",
       "    .dataframe tbody tr th:only-of-type {\n",
       "        vertical-align: middle;\n",
       "    }\n",
       "\n",
       "    .dataframe tbody tr th {\n",
       "        vertical-align: top;\n",
       "    }\n",
       "\n",
       "    .dataframe thead th {\n",
       "        text-align: right;\n",
       "    }\n",
       "</style>\n",
       "<table border=\"1\" class=\"dataframe\">\n",
       "  <thead>\n",
       "    <tr style=\"text-align: right;\">\n",
       "      <th></th>\n",
       "      <th>Training_score</th>\n",
       "      <th>Cross_validated_score</th>\n",
       "    </tr>\n",
       "    <tr>\n",
       "      <th>N_features</th>\n",
       "      <th></th>\n",
       "      <th></th>\n",
       "    </tr>\n",
       "  </thead>\n",
       "  <tbody>\n",
       "    <tr>\n",
       "      <th>4</th>\n",
       "      <td>0.924836</td>\n",
       "      <td>0.650221</td>\n",
       "    </tr>\n",
       "    <tr>\n",
       "      <th>5</th>\n",
       "      <td>0.949619</td>\n",
       "      <td>0.641625</td>\n",
       "    </tr>\n",
       "    <tr>\n",
       "      <th>6</th>\n",
       "      <td>0.955680</td>\n",
       "      <td>0.637048</td>\n",
       "    </tr>\n",
       "    <tr>\n",
       "      <th>7</th>\n",
       "      <td>0.969350</td>\n",
       "      <td>0.632573</td>\n",
       "    </tr>\n",
       "    <tr>\n",
       "      <th>8</th>\n",
       "      <td>0.973367</td>\n",
       "      <td>0.632928</td>\n",
       "    </tr>\n",
       "    <tr>\n",
       "      <th>9</th>\n",
       "      <td>0.975456</td>\n",
       "      <td>0.631652</td>\n",
       "    </tr>\n",
       "    <tr>\n",
       "      <th>10</th>\n",
       "      <td>0.977901</td>\n",
       "      <td>0.647490</td>\n",
       "    </tr>\n",
       "    <tr>\n",
       "      <th>11</th>\n",
       "      <td>0.990869</td>\n",
       "      <td>0.666902</td>\n",
       "    </tr>\n",
       "  </tbody>\n",
       "</table>\n",
       "</div>"
      ],
      "text/plain": [
       "            Training_score  Cross_validated_score\n",
       "N_features                                       \n",
       "4                 0.924836               0.650221\n",
       "5                 0.949619               0.641625\n",
       "6                 0.955680               0.637048\n",
       "7                 0.969350               0.632573\n",
       "8                 0.973367               0.632928\n",
       "9                 0.975456               0.631652\n",
       "10                0.977901               0.647490\n",
       "11                0.990869               0.666902"
      ]
     },
     "execution_count": 95,
     "metadata": {},
     "output_type": "execute_result"
    }
   ],
   "source": [
    "valid_df=pd.DataFrame()\n",
    "valid_df['N_features']=np.arange(4,12,1)\n",
    "valid_df['Training_score']=roc_training\n",
    "valid_df['Cross_validated_score']=roc_cv\n",
    "valid_df.set_index('N_features',inplace=True)\n",
    "valid_df"
   ]
  },
  {
   "cell_type": "markdown",
   "metadata": {},
   "source": [
    "### Now, lets see if we can tune our XGBoost parameters to gain better results"
   ]
  },
  {
   "cell_type": "markdown",
   "metadata": {},
   "source": [
    "### Encoding Categorical variables"
   ]
  },
  {
   "cell_type": "markdown",
   "metadata": {},
   "source": [
    "### Preparing a downsampled test dataset with balanced Response variable"
   ]
  },
  {
   "cell_type": "code",
   "execution_count": 51,
   "metadata": {},
   "outputs": [],
   "source": [
    "df = pd.read_csv('train_Df64byy.csv',index_col='ID')"
   ]
  },
  {
   "cell_type": "code",
   "execution_count": 338,
   "metadata": {},
   "outputs": [],
   "source": [
    "from sklearn.utils import resample"
   ]
  },
  {
   "cell_type": "code",
   "execution_count": 99,
   "metadata": {},
   "outputs": [],
   "source": [
    "df_0=df[df.Response==0]\n",
    "df_1=df[df.Response==1]\n",
    "df_0_downsampled=resample(df_0,replace=False, n_samples=1500,random_state=2)\n",
    "df_1_downsampled=resample(df_1,replace=False, n_samples=1500,random_state=2)\n",
    "df_downsample=pd.concat([df_0_downsampled,df_1_downsampled])"
   ]
  },
  {
   "cell_type": "code",
   "execution_count": 100,
   "metadata": {},
   "outputs": [],
   "source": [
    "ytest=df_downsample.Response.values"
   ]
  },
  {
   "cell_type": "code",
   "execution_count": 108,
   "metadata": {},
   "outputs": [],
   "source": [
    "# xtest=df_downsample[['City_Code','Accomodation_Type','Health Indicator','Holding_Policy_Type','Reco_Policy_Cat','Holding_Policy_Duration','Lower_Age']]\n",
    "xtest=df_downsample[train.columns]"
   ]
  },
  {
   "cell_type": "code",
   "execution_count": 109,
   "metadata": {},
   "outputs": [],
   "source": [
    "xtest1=pysqldf('''select ID,Holding_Policy_Duration, case when Holding_Policy_Duration in ('1.0','2.0') then '1-2' when Holding_Policy_Duration in ('3.0','4.0') then '3-4' \n",
    "when Holding_Policy_Duration in ('5.0','6.0','7.0') then '5-7' \n",
    "when Holding_Policy_Duration in ('8.0','9.0','10.0','11.0','12.0','13.0','14.0') then '8-14'\n",
    "else Holding_Policy_Duration end as new  from xtest''')\n",
    "xtest=xtest.merge(xtest1, on = 'ID') # merging the modified field of duration back to original data\n",
    "xtest.rename(columns={'new':'Holding_Policy_Duration'},inplace=True)\n",
    "xtest.drop(['Holding_Policy_Duration_x','Holding_Policy_Duration_y','ID'],axis=1,inplace=True)"
   ]
  },
  {
   "cell_type": "markdown",
   "metadata": {},
   "source": [
    "### Encoding categorical features in test data"
   ]
  },
  {
   "cell_type": "code",
   "execution_count": 113,
   "metadata": {},
   "outputs": [],
   "source": [
    "xtest = xtest.fillna(\"Missing\")\n",
    "for f in xtest.columns:\n",
    "    if xtest[f].dtype=='object':\n",
    "#         print(f)\n",
    "        lbl = preprocessing.LabelEncoder()\n",
    "        lbl.fit(list(xtest[f].values))\n",
    "        xtest[f] = lbl.transform(list(xtest[f].values))"
   ]
  },
  {
   "cell_type": "markdown",
   "metadata": {},
   "source": [
    "### Lets see performance of our basic XGBoost model on test"
   ]
  },
  {
   "cell_type": "code",
   "execution_count": 114,
   "metadata": {},
   "outputs": [],
   "source": [
    "preds1=clf.predict_proba(xtest)[:,1]"
   ]
  },
  {
   "cell_type": "code",
   "execution_count": 115,
   "metadata": {},
   "outputs": [
    {
     "name": "stdout",
     "output_type": "stream",
     "text": [
      "roc_auc score : 0.9913853333333332\n"
     ]
    }
   ],
   "source": [
    "print(\"roc_auc score :\",roc_auc_score(ytest,preds1))"
   ]
  },
  {
   "cell_type": "markdown",
   "metadata": {},
   "source": [
    "### performance on balanced dataset is overwhelming!"
   ]
  },
  {
   "cell_type": "markdown",
   "metadata": {},
   "source": [
    "## Now, lets tune our base model to maximize the performance "
   ]
  },
  {
   "cell_type": "markdown",
   "metadata": {},
   "source": [
    "### Finding the best possible parameters using GridSearchCV "
   ]
  },
  {
   "cell_type": "code",
   "execution_count": null,
   "metadata": {},
   "outputs": [],
   "source": [
    "    clf = xgb.XGBClassifier(n_estimators=120,\n",
    "                        max_depth=13,\n",
    "                        learning_rate=0.09,\n",
    "                        subsample=0.8,\n",
    "                        verbosity=0\n",
    "                       )\n",
    " "
   ]
  },
  {
   "cell_type": "code",
   "execution_count": 116,
   "metadata": {},
   "outputs": [
    {
     "name": "stdout",
     "output_type": "stream",
     "text": [
      "{'learning_rate': 0.09, 'max_depth': 10, 'n_estimators': 100, 'subsample': 0.8, 'tree_method': 'gpu_hist', 'verbosity': 0}\n"
     ]
    }
   ],
   "source": [
    "param_grid=[\n",
    "    {'n_estimators':[100,120,150],\n",
    "    'max_depth':[10,13,15],\n",
    "    'subsample':[0.8],\n",
    "     'learning_rate':[0.09,0.1],\n",
    "     'tree_method':['gpu_hist'],\n",
    "     'verbosity':[0]\n",
    "    },\n",
    "]\n",
    "opt_params=GridSearchCV(\n",
    "                    xgb.XGBClassifier(),param_grid,cv=10)\n",
    "\n",
    "opt_params.fit(train,y,eval_metric=\"auc\")\n",
    "print(opt_params.best_params_)"
   ]
  },
  {
   "cell_type": "markdown",
   "metadata": {},
   "source": [
    "### We got the best parameters to enhance our model"
   ]
  },
  {
   "cell_type": "code",
   "execution_count": 117,
   "metadata": {},
   "outputs": [],
   "source": [
    "clf_tuned = xgb.XGBClassifier(n_estimators=100,\n",
    "                        max_depth=10,\n",
    "                        learning_rate=0.09,\n",
    "                        subsample=0.8,\n",
    "                        verbosity=0,\n",
    "                       tree_method='gpu_hist')\n",
    "xgb_model = clf_tuned.fit(train, y, eval_metric=\"auc\")"
   ]
  },
  {
   "cell_type": "markdown",
   "metadata": {},
   "source": [
    "### lets check its performance on our balanced test data"
   ]
  },
  {
   "cell_type": "code",
   "execution_count": 118,
   "metadata": {},
   "outputs": [],
   "source": [
    "preds2=clf_tuned.predict_proba(xtest)[:,1]"
   ]
  },
  {
   "cell_type": "code",
   "execution_count": 119,
   "metadata": {
    "scrolled": true
   },
   "outputs": [
    {
     "data": {
      "text/plain": [
       "0.921629111111111"
      ]
     },
     "execution_count": 119,
     "metadata": {},
     "output_type": "execute_result"
    }
   ],
   "source": [
    "roc_auc_score(ytest,preds2)"
   ]
  },
  {
   "cell_type": "markdown",
   "metadata": {},
   "source": [
    "### Creating another test sample of 3000 observation without balancing"
   ]
  },
  {
   "cell_type": "code",
   "execution_count": 120,
   "metadata": {},
   "outputs": [],
   "source": [
    "new_test=resample(df,replace=False, n_samples=3000,random_state=2)\n",
    "# Xn=new_test[['Reco_Insurance_Type','Holding_Policy_Duration','Reco_Policy_Cat','Reco_Policy_Premium']]\n",
    "Xn=new_test[train.columns]\n",
    "yn=new_test['Response'].copy()"
   ]
  },
  {
   "cell_type": "code",
   "execution_count": 121,
   "metadata": {},
   "outputs": [],
   "source": [
    "Xn1=pysqldf('''select ID,Holding_Policy_Duration, case when Holding_Policy_Duration in ('1.0','2.0') then '1-2' when Holding_Policy_Duration in ('3.0','4.0') then '3-4' \n",
    "when Holding_Policy_Duration in ('5.0','6.0','7.0') then '5-7' \n",
    "when Holding_Policy_Duration in ('8.0','9.0','10.0','11.0','12.0','13.0','14.0') then '8-14'\n",
    "else Holding_Policy_Duration end as new  from Xn''')\n",
    "Xn=Xn.merge(Xn1, on = 'ID') # merging the modified field of duration back to original data\n",
    "Xn.rename(columns={'new':'Holding_Policy_Duration'},inplace=True)\n",
    "Xn.drop(['Holding_Policy_Duration_x','Holding_Policy_Duration_y'],axis=1,inplace=True)\n"
   ]
  },
  {
   "cell_type": "code",
   "execution_count": 122,
   "metadata": {},
   "outputs": [],
   "source": [
    "Xn = Xn.fillna(\"Missing\")\n",
    "for f in Xn.columns:\n",
    "    if Xn[f].dtype=='object':\n",
    "#         print(f)\n",
    "        lbl = preprocessing.LabelEncoder()\n",
    "        lbl.fit(list(Xn[f].values))\n",
    "        Xn[f] = lbl.transform(list(Xn[f].values))"
   ]
  },
  {
   "cell_type": "code",
   "execution_count": 123,
   "metadata": {},
   "outputs": [],
   "source": [
    "Xn.drop('ID',axis=1,inplace=True)"
   ]
  },
  {
   "cell_type": "code",
   "execution_count": 126,
   "metadata": {},
   "outputs": [
    {
     "name": "stdout",
     "output_type": "stream",
     "text": [
      "roc_auc score :  0.9083407711231702\n"
     ]
    }
   ],
   "source": [
    "preds_n=clf_tuned.predict_proba(Xn)[:,1]\n",
    "print(\"roc_auc score : \",roc_auc_score(yn,preds_n))"
   ]
  },
  {
   "cell_type": "markdown",
   "metadata": {},
   "source": [
    "### So, we can see that out trained XGBoost model performed fairly well on both balanced and imbalanced datasets"
   ]
  },
  {
   "cell_type": "markdown",
   "metadata": {},
   "source": [
    "### Now, its time to predict the values for actual test data provided in the contest"
   ]
  },
  {
   "cell_type": "markdown",
   "metadata": {},
   "source": [
    "### Need to prepare test data in a similar structure to that of train data for better predictions"
   ]
  },
  {
   "cell_type": "code",
   "execution_count": 141,
   "metadata": {},
   "outputs": [],
   "source": [
    "test=pd.read_csv('test_YCcRUnU.csv',index_col='ID')\n",
    "test=test[train.columns]"
   ]
  },
  {
   "cell_type": "code",
   "execution_count": 142,
   "metadata": {},
   "outputs": [],
   "source": [
    "test1=pysqldf('''select ID,Holding_Policy_Duration, case when Holding_Policy_Duration in ('1.0','2.0') then '1-2' when Holding_Policy_Duration in ('3.0','4.0') then '3-4' \n",
    "when Holding_Policy_Duration in ('5.0','6.0','7.0') then '5-7' \n",
    "when Holding_Policy_Duration in ('8.0','9.0','10.0','11.0','12.0','13.0','14.0') then '8-14'\n",
    "else Holding_Policy_Duration end as new  from test''')\n",
    "test=test.merge(test1, on = 'ID') # merging the modified field of duration back to original data\n",
    "test.rename(columns={'new':'Holding_Policy_Duration'},inplace=True)\n",
    "test.drop(['Holding_Policy_Duration_x','Holding_Policy_Duration_y'],axis=1,inplace=True)\n",
    "test.set_index('ID',inplace=True)"
   ]
  },
  {
   "cell_type": "code",
   "execution_count": 143,
   "metadata": {},
   "outputs": [],
   "source": [
    "test = test.fillna(\"Missing\")\n",
    "for f in test.columns:\n",
    "    if test[f].dtype=='object':\n",
    "#         print(f)\n",
    "        lbl = preprocessing.LabelEncoder()\n",
    "        lbl.fit(list(test[f].values))\n",
    "        test[f] = lbl.transform(list(test[f].values))"
   ]
  },
  {
   "cell_type": "markdown",
   "metadata": {},
   "source": [
    "### Ready for final predictions on our actual test data"
   ]
  },
  {
   "cell_type": "code",
   "execution_count": 146,
   "metadata": {},
   "outputs": [],
   "source": [
    "final_preds=clf_tuned.predict_proba(test)[:,1]"
   ]
  },
  {
   "cell_type": "markdown",
   "metadata": {},
   "source": [
    "### And prepare the sample submission data for above predictions"
   ]
  },
  {
   "cell_type": "code",
   "execution_count": 147,
   "metadata": {},
   "outputs": [],
   "source": [
    "sample=pd.DataFrame()\n",
    "sample['ID']=test.index\n",
    "sample.set_index('ID',inplace=True)\n",
    "sample['Response']=final_preds"
   ]
  },
  {
   "cell_type": "code",
   "execution_count": 148,
   "metadata": {},
   "outputs": [
    {
     "data": {
      "text/html": [
       "<div>\n",
       "<style scoped>\n",
       "    .dataframe tbody tr th:only-of-type {\n",
       "        vertical-align: middle;\n",
       "    }\n",
       "\n",
       "    .dataframe tbody tr th {\n",
       "        vertical-align: top;\n",
       "    }\n",
       "\n",
       "    .dataframe thead th {\n",
       "        text-align: right;\n",
       "    }\n",
       "</style>\n",
       "<table border=\"1\" class=\"dataframe\">\n",
       "  <thead>\n",
       "    <tr style=\"text-align: right;\">\n",
       "      <th></th>\n",
       "      <th>Response</th>\n",
       "    </tr>\n",
       "    <tr>\n",
       "      <th>ID</th>\n",
       "      <th></th>\n",
       "    </tr>\n",
       "  </thead>\n",
       "  <tbody>\n",
       "    <tr>\n",
       "      <th>50883</th>\n",
       "      <td>0.297525</td>\n",
       "    </tr>\n",
       "    <tr>\n",
       "      <th>50884</th>\n",
       "      <td>0.360063</td>\n",
       "    </tr>\n",
       "    <tr>\n",
       "      <th>50885</th>\n",
       "      <td>0.246767</td>\n",
       "    </tr>\n",
       "    <tr>\n",
       "      <th>50886</th>\n",
       "      <td>0.258566</td>\n",
       "    </tr>\n",
       "    <tr>\n",
       "      <th>50887</th>\n",
       "      <td>0.132387</td>\n",
       "    </tr>\n",
       "  </tbody>\n",
       "</table>\n",
       "</div>"
      ],
      "text/plain": [
       "       Response\n",
       "ID             \n",
       "50883  0.297525\n",
       "50884  0.360063\n",
       "50885  0.246767\n",
       "50886  0.258566\n",
       "50887  0.132387"
      ]
     },
     "execution_count": 148,
     "metadata": {},
     "output_type": "execute_result"
    }
   ],
   "source": [
    "sample.head()"
   ]
  },
  {
   "cell_type": "code",
   "execution_count": 149,
   "metadata": {},
   "outputs": [],
   "source": [
    "sample.to_csv('Submission3.csv') ## Exporting the file to upload"
   ]
  },
  {
   "cell_type": "markdown",
   "metadata": {},
   "source": [
    "                                        -------- Thank You --------"
   ]
  }
 ],
 "metadata": {
  "kernelspec": {
   "display_name": "Python 3",
   "language": "python",
   "name": "python3"
  },
  "language_info": {
   "codemirror_mode": {
    "name": "ipython",
    "version": 3
   },
   "file_extension": ".py",
   "mimetype": "text/x-python",
   "name": "python",
   "nbconvert_exporter": "python",
   "pygments_lexer": "ipython3",
   "version": "3.7.6"
  }
 },
 "nbformat": 4,
 "nbformat_minor": 4
}
